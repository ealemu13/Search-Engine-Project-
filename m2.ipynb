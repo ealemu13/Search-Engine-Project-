{
 "cells": [
  {
   "cell_type": "code",
   "execution_count": 1,
   "id": "c12620a6",
   "metadata": {},
   "outputs": [
    {
     "ename": "ModuleNotFoundError",
     "evalue": "No module named 'jsonlines'",
     "output_type": "error",
     "traceback": [
      "\u001b[0;31m---------------------------------------------------------------------------\u001b[0m",
      "\u001b[0;31mModuleNotFoundError\u001b[0m                       Traceback (most recent call last)",
      "Cell \u001b[0;32mIn[1], line 1\u001b[0m\n\u001b[0;32m----> 1\u001b[0m \u001b[38;5;28;01mimport\u001b[39;00m \u001b[38;5;21;01mjsonlines\u001b[39;00m\u001b[38;5;241m,\u001b[39m \u001b[38;5;21;01mjson\u001b[39;00m\n\u001b[1;32m      2\u001b[0m \u001b[38;5;28;01mfrom\u001b[39;00m \u001b[38;5;21;01mnltk\u001b[39;00m\u001b[38;5;21;01m.\u001b[39;00m\u001b[38;5;21;01mstem\u001b[39;00m \u001b[38;5;28;01mimport\u001b[39;00m PorterStemmer\n\u001b[1;32m      4\u001b[0m path \u001b[38;5;241m=\u001b[39m [\u001b[38;5;124m\"\u001b[39m\u001b[38;5;124mdata/inverted_index_1.jsonl\u001b[39m\u001b[38;5;124m\"\u001b[39m, \u001b[38;5;124m\"\u001b[39m\u001b[38;5;124mdata/inverted_index_2.jsonl\u001b[39m\u001b[38;5;124m\"\u001b[39m]\n",
      "\u001b[0;31mModuleNotFoundError\u001b[0m: No module named 'jsonlines'"
     ]
    }
   ],
   "source": [
    "import jsonlines, json\n",
    "from nltk.stem import PorterStemmer\n",
    "\n",
    "path = [\"data/inverted_index_1.jsonl\", \"data/inverted_index_2.jsonl\"]\n",
    "inverted_index = {}\n",
    "url_map = {}"
   ]
  },
  {
   "cell_type": "code",
   "execution_count": 10,
   "id": "280094fc",
   "metadata": {},
   "outputs": [],
   "source": [
    "# read the jsonl file to save the inverted index to a map\n",
    "with jsonlines.open(path[0], 'r') as file:\n",
    "    for jsonObj in file:\n",
    "        token = list(jsonObj.keys())[0]\n",
    "        inverted_index[token] = jsonObj[token]"
   ]
  },
  {
   "cell_type": "code",
   "execution_count": 11,
   "id": "922886b9",
   "metadata": {},
   "outputs": [],
   "source": [
    "# read the jsonl files to save the inverted index to a map\n",
    "with jsonlines.open(path[1], 'r') as file:\n",
    "    for jsonObj in file:\n",
    "        token = list(jsonObj.keys())[0]\n",
    "        inverted_index[token] = jsonObj[token]"
   ]
  },
  {
   "cell_type": "code",
   "execution_count": 5,
   "id": "69da99b3",
   "metadata": {},
   "outputs": [],
   "source": [
    "# for debugging purpose\n",
    "# i = 0\n",
    "# for key in inverted_index:\n",
    "#     print(key, inverted_index[key])\n",
    "#     i += 1\n",
    "\n",
    "#     if i > 10: break"
   ]
  },
  {
   "cell_type": "code",
   "execution_count": 12,
   "id": "d53fdc86",
   "metadata": {},
   "outputs": [],
   "source": [
    "# read the json file to save the urls' id to a map\n",
    "with open(\"url_id.json\", 'r') as file:\n",
    "    data = json.load(file)\n",
    "    for id in data:\n",
    "        url_map[id] = data[id]"
   ]
  },
  {
   "cell_type": "code",
   "execution_count": 7,
   "id": "29adcabb",
   "metadata": {},
   "outputs": [],
   "source": [
    "# for debugging purpose \n",
    "# i = 0\n",
    "# for key in url_map:\n",
    "#     print(key, url_map[key])\n",
    "#     i += 1\n",
    "\n",
    "#     if i > 10: break"
   ]
  },
  {
   "cell_type": "code",
   "execution_count": 13,
   "id": "ecadcf29",
   "metadata": {},
   "outputs": [
    {
     "name": "stdout",
     "output_type": "stream",
     "text": [
      "lopes is not found\n",
      "URLs that contain cristina lopes\n",
      "https://www.ics.uci.edu/faculty/faculty_dept?department=Informatics\n",
      "https://www.informatics.uci.edu/explore/faculty-profiles/sam-malek/#content\n",
      "https://www.ics.uci.edu/community/news/spotlight/spotlight_microsoftspellerchallenge.php\n",
      "https://www.informatics.uci.edu/explore/faculty-profiles/\n",
      "https://www.ics.uci.edu/community/news/view_news.php?id=1207\n",
      "http://flamingo.ics.uci.edu/releases/4.0/src/filtertree/data/female_names.txt\n",
      "\n",
      "machine is not found\n",
      "learning is not found\n",
      "URLs that contain machine learning\n",
      "\n",
      "URLs that contain acm\n",
      "https://wics.ics.uci.edu/event/ics-banquet/\n",
      "https://grape.ics.uci.edu/wiki/public/wiki/cs222-2017-fall?version=61\n",
      "https://grape.ics.uci.edu/wiki/public/wiki/cs222-2017-fall?version=63\n",
      "https://wics.ics.uci.edu/event/week-4-homework-and-interview-help/\n",
      "https://grape.ics.uci.edu/wiki/public/wiki/cs222-2019-fall?version=11\n",
      "https://isg.ics.uci.edu/event/michal-shmueli-scheuer-conversational-bots-for-customer-support/\n",
      "\n",
      "software is not found\n",
      "engineering is not found\n",
      "URLs that contain master of software engineering\n",
      "https://www.ics.uci.edu/~rickl/courses/cs-171/2016-smrq-cs171/CS-171-SMRQ-2016.htm\n",
      "https://www.informatics.uci.edu/ruberg-has-article-featured-in-new-gaming-representation-book/\n",
      "https://grape.ics.uci.edu/wiki/public/wiki/cs122b-2018-winter-project5?version=4\n",
      "https://grape.ics.uci.edu/wiki/public/wiki/cs122b-2018-spring-project1?version=14&format=txt\n",
      "https://www.ics.uci.edu/~rickl/rickl-industry.html\n",
      "https://grape.ics.uci.edu/wiki/public/wiki/cs221-2019-spring-project1-git?version=1&format=txt\n",
      "\n"
     ]
    }
   ],
   "source": [
    "while True:\n",
    "\n",
    "    posting_lists = []      # for saving all the url id \n",
    "    searching_tokens = [] \n",
    "    \n",
    "    # ask for input/quries\n",
    "    queries = input(\"Input queries (type exit to stop searching): \")\n",
    "\n",
    "    if queries.lower() == \"exit\":\n",
    "        break\n",
    "\n",
    "    # perform the search\n",
    "    # cristina lopes, machine learning, ACM, master of software engineering\n",
    "\n",
    "    searching_tokens = queries.split()  # ex: \"machine learning\" => ['machine', 'learning']\n",
    "\n",
    "    # note: need a stemming step here before start searching\n",
    "\n",
    "    stemmer = PorterStemmer()\n",
    "    stemmed_searching_tokens = [stemmer.stem(word) for word in searching_tokens]\n",
    "\n",
    "    # get the posting list from each token and save to posting_lists array\n",
    "    for token in stemmed_searching_tokens:\n",
    "        if token in inverted_index:\n",
    "            posting_lists.append(inverted_index[token])\n",
    "        else:\n",
    "            print(token, \"is not found\")\n",
    "\n",
    "    # find the intersection of the posting lists\n",
    "    url_id_set = set()\n",
    "    for posting_list in posting_lists:\n",
    "        if len(url_id_set) == 0:\n",
    "            url_id_set.update(set(posting_list.keys()))\n",
    "        else:\n",
    "            # url_id_set.intersection(set(posting_list.keys()))\n",
    "            url_id_set &= set(posting_list.keys())\n",
    "\n",
    "    # output the urls\n",
    "    i = 0\n",
    "    print(\"URLs that contain\", queries)\n",
    "    for id in url_id_set:\n",
    "        if i > 5: break\n",
    "        print(url_map[id])\n",
    "        i += 1\n",
    "    print()\n"
   ]
  },
  {
   "cell_type": "code",
   "execution_count": 3,
   "id": "74f6f7ab",
   "metadata": {},
   "outputs": [
    {
     "name": "stdout",
     "output_type": "stream",
     "text": [
      "Collecting nltk\n",
      "  Downloading nltk-3.9.1-py3-none-any.whl.metadata (2.9 kB)\n",
      "Collecting jsonlines\n",
      "  Downloading jsonlines-4.0.0-py3-none-any.whl.metadata (1.6 kB)\n",
      "Requirement already satisfied: click in /opt/conda/lib/python3.12/site-packages (from nltk) (8.1.7)\n",
      "Requirement already satisfied: joblib in /opt/conda/lib/python3.12/site-packages (from nltk) (1.4.2)\n",
      "Collecting regex>=2021.8.3 (from nltk)\n",
      "  Downloading regex-2024.11.6-cp312-cp312-manylinux_2_17_x86_64.manylinux2014_x86_64.whl.metadata (40 kB)\n",
      "Requirement already satisfied: tqdm in /opt/conda/lib/python3.12/site-packages (from nltk) (4.67.1)\n",
      "Requirement already satisfied: attrs>=19.2.0 in /opt/conda/lib/python3.12/site-packages (from jsonlines) (24.2.0)\n",
      "Downloading nltk-3.9.1-py3-none-any.whl (1.5 MB)\n",
      "\u001b[2K   \u001b[90m━━━━━━━━━━━━━━━━━━━━━━━━━━━━━━━━━━━━━━━━\u001b[0m \u001b[32m1.5/1.5 MB\u001b[0m \u001b[31m23.0 MB/s\u001b[0m eta \u001b[36m0:00:00\u001b[0m\n",
      "\u001b[?25hDownloading jsonlines-4.0.0-py3-none-any.whl (8.7 kB)\n",
      "Downloading regex-2024.11.6-cp312-cp312-manylinux_2_17_x86_64.manylinux2014_x86_64.whl (796 kB)\n",
      "\u001b[2K   \u001b[90m━━━━━━━━━━━━━━━━━━━━━━━━━━━━━━━━━━━━━━━━\u001b[0m \u001b[32m796.9/796.9 kB\u001b[0m \u001b[31m17.8 MB/s\u001b[0m eta \u001b[36m0:00:00\u001b[0m\n",
      "Installing collected packages: regex, jsonlines, nltk\n",
      "Successfully installed jsonlines-4.0.0 nltk-3.9.1 regex-2024.11.6\n",
      "\n",
      "\u001b[1m[\u001b[0m\u001b[34;49mnotice\u001b[0m\u001b[1;39;49m]\u001b[0m\u001b[39;49m A new release of pip is available: \u001b[0m\u001b[31;49m24.3.1\u001b[0m\u001b[39;49m -> \u001b[0m\u001b[32;49m25.1.1\u001b[0m\n",
      "\u001b[1m[\u001b[0m\u001b[34;49mnotice\u001b[0m\u001b[1;39;49m]\u001b[0m\u001b[39;49m To update, run: \u001b[0m\u001b[32;49mpip install --upgrade pip\u001b[0m\n"
     ]
    },
    {
     "name": "stdin",
     "output_type": "stream",
     "text": [
      "Input queries (type exit to stop searching):  cristina lopes\n"
     ]
    },
    {
     "name": "stdout",
     "output_type": "stream",
     "text": [
      "\n",
      "URLs that contain: \"cristina lopes\"\n",
      "1. https://www.ics.uci.edu/~hsajnani/ (tf-idf: 230.9507)\n",
      "2. https://www.ics.uci.edu/~sjavanma/ (tf-idf: 101.9723)\n",
      "3. http://mondego.ics.uci.edu/ (tf-idf: 79.6436)\n",
      "4. https://www.informatics.uci.edu/explore/facts-figures/#content (tf-idf: 74.4644)\n",
      "5. https://www.informatics.uci.edu/explore/facts-figures/ (tf-idf: 74.4644)\n",
      "\n"
     ]
    },
    {
     "name": "stdin",
     "output_type": "stream",
     "text": [
      "Input queries (type exit to stop searching):  machine learning\n"
     ]
    },
    {
     "name": "stdout",
     "output_type": "stream",
     "text": [
      "\n",
      "URLs that contain: \"machine learning\"\n",
      "1. http://mondego.ics.uci.edu/datasets/maven-contents.txt (tf-idf: 553.5183)\n",
      "2. https://cml.ics.uci.edu/category/aiml/page/2/ (tf-idf: 472.7834)\n",
      "3. https://cml.ics.uci.edu/category/aiml/page/2/#content (tf-idf: 472.7834)\n",
      "4. https://cml.ics.uci.edu/category/aiml/ (tf-idf: 407.9766)\n",
      "5. https://cml.ics.uci.edu/category/aiml/#content (tf-idf: 407.9766)\n",
      "\n"
     ]
    },
    {
     "name": "stdin",
     "output_type": "stream",
     "text": [
      "Input queries (type exit to stop searching):  acm\n"
     ]
    },
    {
     "name": "stdout",
     "output_type": "stream",
     "text": [
      "\n",
      "URLs that contain: \"acm\"\n",
      "1. https://www.ics.uci.edu/~eppstein/pubs/pubs.ff (tf-idf: 421.6850)\n",
      "2. https://www.ics.uci.edu/~eppstein/pubs/all.html (tf-idf: 389.0384)\n",
      "3. https://www.ics.uci.edu/~kay/courses/131/s04readings.html (tf-idf: 375.4357)\n",
      "4. https://www.ics.uci.edu/~eppstein/bibs/eppstein.html (tf-idf: 334.6274)\n",
      "5. https://www.ics.uci.edu/~eppstein/pubs/geom-all.html (tf-idf: 263.8932)\n",
      "\n"
     ]
    },
    {
     "name": "stdin",
     "output_type": "stream",
     "text": [
      "Input queries (type exit to stop searching):  master of software engineering\n"
     ]
    },
    {
     "name": "stdout",
     "output_type": "stream",
     "text": [
      "\n",
      "URLs that contain: \"master of software engineering\"\n",
      "1. https://www.ics.uci.edu/~kay/courses/h22/hw/DVD.txt (tf-idf: 1897.6876)\n",
      "2. https://www.ics.uci.edu/~kay/courses/h22/hw/DVD-random.txt (tf-idf: 1897.6876)\n",
      "3. https://www.ics.uci.edu/~eppstein/bibs/kpath.bib (tf-idf: 822.2951)\n",
      "4. https://www.ics.uci.edu/~gbowker/classification/ (tf-idf: 713.0990)\n",
      "5. https://www.ics.uci.edu/~dan/class/267P/datasets/calgary/news (tf-idf: 488.2932)\n",
      "\n"
     ]
    },
    {
     "name": "stdin",
     "output_type": "stream",
     "text": [
      "Input queries (type exit to stop searching):  exit\n"
     ]
    }
   ],
   "source": [
    "!pip install nltk jsonlines\n",
    "\n",
    "from nltk.stem import PorterStemmer\n",
    "import jsonlines, json\n",
    "import math\n",
    "\n",
    "N = 55393 # total number of documents\n",
    "stemmer = PorterStemmer()\n",
    "\n",
    "# Load inverted index\n",
    "path = [\"data/inverted_index_1.jsonl\", \"data/inverted_index_2.jsonl\"]\n",
    "inverted_index = {}\n",
    "\n",
    "for p in path:\n",
    "    with jsonlines.open(p, 'r') as file:\n",
    "        for jsonObj in file:\n",
    "            token = list(jsonObj.keys())[0]\n",
    "            inverted_index[token] = jsonObj[token]\n",
    "\n",
    "# Load URL map\n",
    "url_map = {}\n",
    "with open(\"url_id.json\", 'r') as file:\n",
    "    data = json.load(file)\n",
    "    for id in data:\n",
    "        url_map[id] = data[id]\n",
    "\n",
    "# Query loop\n",
    "while True:\n",
    "    queries = input(\"Input queries (type exit to stop searching): \")\n",
    "    if queries.lower() == \"exit\":\n",
    "        break\n",
    "\n",
    "    tokens = queries.split()\n",
    "    stemmed_tokens = [stemmer.stem(t) for t in tokens]\n",
    "\n",
    "    posting_lists = []\n",
    "    for token in stemmed_tokens:\n",
    "        if token in inverted_index:\n",
    "            posting_lists.append(inverted_index[token])\n",
    "        else:\n",
    "            print(token, \"is not found\")\n",
    "\n",
    "    # Boolean AND: intersect all posting lists\n",
    "    url_id_set = set()\n",
    "    for posting_list in posting_lists:\n",
    "        doc_ids = set(posting_list.keys())\n",
    "        if not url_id_set:\n",
    "            url_id_set = doc_ids\n",
    "        else:\n",
    "            url_id_set &= doc_ids\n",
    "\n",
    "    # compute tf-idf scores\n",
    "    doc_scores = {}\n",
    "\n",
    "    for doc_id in url_id_set:\n",
    "        score = 0.0\n",
    "        for token in stemmed_tokens:\n",
    "            posting = inverted_index.get(token, {})\n",
    "            tf = posting.get(doc_id, 0)\n",
    "            df = len(posting) if posting else 1\n",
    "            idf = math.log(N / (1 + df))\n",
    "            score += tf * idf\n",
    "        doc_scores[doc_id] = score\n",
    "\n",
    "    ranked_docs = sorted(doc_scores.items(), key=lambda x: x[1], reverse=True)\n",
    "\n",
    "    # Output up to 5 URLs (no ranking yet)\n",
    "    print(f\"\\nURLs that contain: \\\"{queries}\\\"\")\n",
    "    for i, (doc_id, score) in enumerate(ranked_docs[:5]):\n",
    "        url = url_map.get(doc_id, doc_id)\n",
    "        print(f\"{i+1}. {url} (tf-idf: {score:.4f})\")\n",
    "    print()\n"
   ]
  },
  {
   "cell_type": "code",
   "execution_count": null,
   "id": "47f55c06",
   "metadata": {},
   "outputs": [],
   "source": []
  },
  {
   "cell_type": "code",
   "execution_count": null,
   "id": "7dc3a952",
   "metadata": {},
   "outputs": [],
   "source": []
  },
  {
   "cell_type": "code",
   "execution_count": null,
   "id": "1aca13ee",
   "metadata": {},
   "outputs": [],
   "source": []
  }
 ],
 "metadata": {
  "kernelspec": {
   "display_name": "Python 3 (ipykernel)",
   "language": "python",
   "name": "python3"
  },
  "language_info": {
   "codemirror_mode": {
    "name": "ipython",
    "version": 3
   },
   "file_extension": ".py",
   "mimetype": "text/x-python",
   "name": "python",
   "nbconvert_exporter": "python",
   "pygments_lexer": "ipython3",
   "version": "3.12.8"
  }
 },
 "nbformat": 4,
 "nbformat_minor": 5
}
